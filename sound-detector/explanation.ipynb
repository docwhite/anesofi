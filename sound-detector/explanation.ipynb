{
 "cells": [
  {
   "cell_type": "code",
   "execution_count": 2,
   "metadata": {},
   "outputs": [
    {
     "name": "stdout",
     "output_type": "stream",
     "text": [
      "2024-01-17 12:47:22\n"
     ]
    },
    {
     "name": "stderr",
     "output_type": "stream",
     "text": [
      "2024-01-17 12:47:23.159444: I tensorflow/tsl/cuda/cudart_stub.cc:28] Could not find cuda drivers on your machine, GPU will not be used.\n",
      "2024-01-17 12:47:23.217547: I tensorflow/tsl/cuda/cudart_stub.cc:28] Could not find cuda drivers on your machine, GPU will not be used.\n",
      "2024-01-17 12:47:23.221181: I tensorflow/core/platform/cpu_feature_guard.cc:182] This TensorFlow binary is optimized to use available CPU instructions in performance-critical operations.\n",
      "To enable the following instructions: AVX2 FMA, in other operations, rebuild TensorFlow with the appropriate compiler flags.\n",
      "OpenBLAS WARNING - could not determine the L2 cache size on this system, assuming 256k\n",
      "2024-01-17 12:47:24.715978: W tensorflow/compiler/tf2tensorrt/utils/py_utils.cc:38] TF-TRT Warning: Could not find TensorRT\n"
     ]
    },
    {
     "name": "stdout",
     "output_type": "stream",
     "text": [
      "['ImageModuleInfo', 'KerasLayer', 'LatestModuleExporter', 'Module', 'ModuleSpec', '__all__', '__builtins__', '__cached__', '__doc__', '__file__', '__loader__', '__name__', '__package__', '__path__', '__spec__', '__version__', '__warningregistry__', '_ensure_python_version', '_ensure_tf_install', '_get_extra_deps', '_run', 'add_signature', 'attach_image_module_info', 'attach_message', 'compressed_module_resolver', 'config', 'create_module_spec', 'create_module_spec_from_saved_model', 'estimator', 'eval_function_for_module', 'feature_column', 'feature_column_v2', 'file_utils', 'get_expected_image_size', 'get_num_image_channels', 'image_embedding_column', 'image_module_info_pb2', 'image_util', 'keras_layer', 'load', 'load_module_spec', 'meta_graph_lib', 'module', 'module_attachment_pb2', 'module_def_pb2', 'module_impl', 'module_spec', 'module_v2', 'native_module', 'register_module_for_export', 'registry', 'resolve', 'resolver', 'saved_model_lib', 'saved_model_module', 'sparse_text_embedding_column', 'tensor_info', 'text_embedding_column', 'text_embedding_column_v2', 'tf_utils', 'uncompressed_module_resolver', 'version']\n"
     ]
    }
   ],
   "source": [
    "# TODO: Actually write. Now it's a hello world to make sure that we can work in\n",
    "# Jupyter Notebooks and that we have all the dependencies installed.\n",
    "\n",
    "import datetime\n",
    "print(datetime.datetime.now().strftime(\"%Y-%m-%d %H:%M:%S\"))\n",
    "\n",
    "import tensorflow_hub as tf_hub\n",
    "print(dir(tf_hub))"
   ]
  }
 ],
 "metadata": {
  "kernelspec": {
   "display_name": "Python 3",
   "language": "python",
   "name": "python3"
  },
  "language_info": {
   "codemirror_mode": {
    "name": "ipython",
    "version": 3
   },
   "file_extension": ".py",
   "mimetype": "text/x-python",
   "name": "python",
   "nbconvert_exporter": "python",
   "pygments_lexer": "ipython3",
   "version": "3.10.13"
  }
 },
 "nbformat": 4,
 "nbformat_minor": 2
}
